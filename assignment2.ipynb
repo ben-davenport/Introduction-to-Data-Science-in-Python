{
 "cells": [
  {
   "cell_type": "markdown",
   "metadata": {
    "deletable": false,
    "editable": false,
    "nbgrader": {
     "checksum": "5a8d839ee00398fa3bd3bc58ec642beb",
     "grade": false,
     "grade_id": "cell-a839e7b47494b4c3",
     "locked": true,
     "schema_version": 1,
     "solution": false
    }
   },
   "source": [
    "# Assignment 2\n",
    "For this assignment you'll be looking at 2017 data on immunizations from the CDC. Your datafile for this assignment is in [assets/NISPUF17.csv](assets/NISPUF17.csv). A data users guide for this, which you'll need to map the variables in the data to the questions being asked, is available at [assets/NIS-PUF17-DUG.pdf](assets/NIS-PUF17-DUG.pdf). **Note: you may have to go to your Jupyter tree (click on the Coursera image) and navigate to the assignment 2 assets folder to see this PDF file).**"
   ]
  },
  {
   "cell_type": "markdown",
   "metadata": {
    "deletable": false,
    "editable": false,
    "hideCode": false,
    "hidePrompt": false,
    "nbgrader": {
     "checksum": "aaa5e730f40ba21c1bc94f864bad4742",
     "grade": false,
     "grade_id": "cell-58fc2e5938733f6a",
     "locked": true,
     "schema_version": 1,
     "solution": false
    }
   },
   "source": [
    "## Question 1\n",
    "Write a function called `proportion_of_education` which returns the proportion of children in the dataset who had a mother with the education levels equal to less than high school (<12), high school (12), more than high school but not a college graduate (>12) and college degree.\n",
    "\n",
    "*This function should return a dictionary in the form of (use the correct numbers, do not round numbers):* \n",
    "```\n",
    "    {\"less than high school\":0.2,\n",
    "    \"high school\":0.4,\n",
    "    \"more than high school but not college\":0.2,\n",
    "    \"college\":0.2}\n",
    "```\n"
   ]
  },
  {
   "cell_type": "code",
   "execution_count": 1,
   "metadata": {
    "deletable": false,
    "nbgrader": {
     "checksum": "0ac58deb3f5ac988c643e903cbee7f3a",
     "grade": false,
     "grade_id": "cell-eea16d020eb52ae7",
     "locked": false,
     "schema_version": 1,
     "solution": true
    }
   },
   "outputs": [],
   "source": [
    "import pandas as pd\n",
    "# df = pd.read_csv('./assets/NISPUF17.csv')\n",
    "# rate = df[\"EDUC1\"].value_counts()/df[\"EDUC1\"].count()\n",
    "# s = rate.rename({1:\"less than high school\", 2:\"high school\", 3:\"more than high school but not college\", 4:\"college\"})    \n",
    "# new_dict = s.to_dict()\n",
    "# print(new_dict)\n",
    "def proportion_of_education():\n",
    "    df = pd.read_csv('./assets/NISPUF17.csv')\n",
    "    rate = df[\"EDUC1\"].value_counts()/df[\"EDUC1\"].count()\n",
    "    s = rate.rename({1:\"less than high school\", 2:\"high school\", 3:\"more than high school but not college\", 4:\"college\"})    \n",
    "    new_dict = s.to_dict()\n",
    "    return new_dict\n",
    "    raise NotImplementedError()"
   ]
  },
  {
   "cell_type": "code",
   "execution_count": 2,
   "metadata": {
    "deletable": false,
    "editable": false,
    "hideCode": false,
    "hidePrompt": false,
    "nbgrader": {
     "checksum": "ac5d91a24a7f72f66c25d242c3d24a50",
     "grade": true,
     "grade_id": "cell-c0eeef201366f51c",
     "locked": true,
     "points": 1,
     "schema_version": 1,
     "solution": false
    }
   },
   "outputs": [],
   "source": [
    "assert type(proportion_of_education())==type({}), \"You must return a dictionary.\"\n",
    "assert len(proportion_of_education()) == 4, \"You have not returned a dictionary with four items in it.\"\n",
    "assert \"less than high school\" in proportion_of_education().keys(), \"You have not returned a dictionary with the correct keys.\"\n",
    "assert \"high school\" in proportion_of_education().keys(), \"You have not returned a dictionary with the correct keys.\"\n",
    "assert \"more than high school but not college\" in proportion_of_education().keys(), \"You have not returned a dictionary with the correct keys.\"\n",
    "assert \"college\" in proportion_of_education().keys(), \"You have not returned a dictionary with the correct keys.\"\n"
   ]
  },
  {
   "cell_type": "markdown",
   "metadata": {
    "deletable": false,
    "editable": false,
    "nbgrader": {
     "checksum": "562b78b7b9b79580269be0a3bebf4b42",
     "grade": false,
     "grade_id": "cell-8fcbb64516283f52",
     "locked": true,
     "schema_version": 1,
     "solution": false
    }
   },
   "source": [
    "## Question 2\n",
    "\n",
    "Let's explore the relationship between being fed breastmilk as a child and getting a seasonal influenza vaccine from a healthcare provider. Return a tuple of the average number of influenza vaccines for those children we know received breastmilk as a child and those who know did not.\n",
    "\n",
    "*This function should return a tuple in the form (use the correct numbers:*\n",
    "```\n",
    "(2.5, 0.1)\n",
    "```"
   ]
  },
  {
   "cell_type": "code",
   "execution_count": 3,
   "metadata": {
    "deletable": false,
    "nbgrader": {
     "checksum": "a405d639063c4a6408365479f29c95c9",
     "grade": false,
     "grade_id": "cell-77f18c512324eabb",
     "locked": false,
     "schema_version": 1,
     "solution": true
    }
   },
   "outputs": [
    {
     "name": "stdout",
     "output_type": "stream",
     "text": [
      "(1.4681890040400492, 1.8414530750668492)\n",
      "1.5 1.8\n"
     ]
    }
   ],
   "source": [
    "# influenza vaccine recieved / breastmilk \n",
    "# influenza vaccine received / no breastmilk\n",
    "# P_NUMFLU \n",
    "# CBF_01\n",
    "df = pd.read_csv('./assets/NISPUF17.csv')\n",
    "\n",
    "\n",
    "print((df['CBF_01'].mean(),df['P_NUMFLU'].mean()))\n",
    "print(round (df['CBF_01'].mean(),1),round(df['P_NUMFLU'].mean(), 1))\n",
    "def average_influenza_doses():\n",
    "    df['P_NUMFLU'] = df['P_NUMFLU'].fillna(value=0)\n",
    "    # number 0 or greater than 0\n",
    "    \n",
    "    # remove all breastfeeding status unknown (3,4,99) \n",
    "    df['CBF_01'].values[df['CBF_01'].values > 2] = 0\n",
    "    \n",
    "    flu_rate = round (df['CBF_01'].mean(), 1)\n",
    "    breastfed = round(df['P_NUMFLU'].mean(), 1)\n",
    "    return (flu_rate, breastfed)\n",
    "    raise NotImplementedError()"
   ]
  },
  {
   "cell_type": "code",
   "execution_count": 4,
   "metadata": {
    "deletable": false,
    "editable": false,
    "nbgrader": {
     "checksum": "19be955e97fdf7162d43fbb7c2c40951",
     "grade": true,
     "grade_id": "cell-54a3ba6cff31caa7",
     "locked": true,
     "points": 1,
     "schema_version": 1,
     "solution": false
    }
   },
   "outputs": [],
   "source": [
    "assert len(average_influenza_doses())==2, \"Return two values in a tuple, the first for yes and the second for no.\"\n"
   ]
  },
  {
   "cell_type": "markdown",
   "metadata": {
    "deletable": false,
    "editable": false,
    "nbgrader": {
     "checksum": "e10e2163f5957a0c398ef4f0b76b4efe",
     "grade": false,
     "grade_id": "cell-f63377f3c97aa7c4",
     "locked": true,
     "schema_version": 1,
     "solution": false
    }
   },
   "source": [
    "## Question 3\n",
    "It would be interesting to see if there is any evidence of a link between vaccine effectiveness and sex of the child. Calculate the ratio of the number of children who contracted chickenpox but were vaccinated against it (at least one varicella dose) versus those who were vaccinated but did not contract chicken pox. Return results by sex. \n",
    "\n",
    "*This function should return a dictionary in the form of (use the correct numbers):* \n",
    "```\n",
    "    {\"male\":0.2,\n",
    "    \"female\":0.4}\n",
    "```\n",
    "\n",
    "Note: To aid in verification, the `chickenpox_by_sex()['female']` value the autograder is looking for starts with the digits `0.0077`."
   ]
  },
  {
   "cell_type": "code",
   "execution_count": 14,
   "metadata": {
    "deletable": false,
    "nbgrader": {
     "checksum": "b4d1b58acae002bc73eb0b19f95bc4af",
     "grade": false,
     "grade_id": "cell-a0a9e6fe67698006",
     "locked": false,
     "schema_version": 1,
     "solution": true
    }
   },
   "outputs": [],
   "source": [
    "# number of kids who contracted chickpox AND were vaccinated against it : vaccinted AND no chicken pox\n",
    "# return by sex\n",
    "# \"SEX\"(1: male, 2:female), \"HAD_CPOX\" (1-yes, 2-no), \"P_NUMVRC\" \"P_NUMVRN\"\n",
    "df = pd.read_csv('./assets/NISPUF17.csv')\n",
    "\n",
    "# df['P_NUMVRC']=df['P_NUMVRC'].fillna(value=0)\n",
    "# df['P_NUMVRN']=df['P_NUMVRN'].fillna(value=0)\n",
    "# df['HAD_CPOX'].values[df['HAD_CPOX'].values > 2] = 0\n",
    "# df['SEX'].values[df['SEX'].values > 2] = 0\n",
    "\n",
    "# PSEUDO\n",
    "# male_rate = df['SEX'=1]\n",
    "#     ['HAD_CPOX'=1]\n",
    "#     ['P_NUMVRN' OR 'P_NUMVRC'>0].count() \n",
    "#     / df['SEX'=1]\n",
    "#     ['HAD_CPOX'=0]\n",
    "#     ['P_NUMVRN' OR 'P_NUMVRC'>0].count()\n",
    "\n",
    "# is_vaccinated = df[(df['P_NUMVRN'] >= 1) | (df['P_NUMVRC'] >= 1)]\n",
    "# male_gotit_rate = len(df[(df[\"SEX\"] == 1) & (df['HAD_CPOX'] ==1) & (df['P_NUMVRC'] >=1)])\n",
    "# male_nogot_rate = len(df[(df[\"SEX\"] == 1) & (df['HAD_CPOX'] ==0) & (df['P_NUMVRC'] >=1)])\n",
    "# print(male_gotit_rate, male_nogot_rate)\n",
    "\n",
    "\n",
    "# male_rate = len(df[\n",
    "#     (df[\"SEX\"] == 1) & \n",
    "#     (df['HAD_CPOX'] ==1) & \n",
    "#     (\n",
    "#         (df['P_NUMVRC'] >=1) |\n",
    "#         (df['P_NUMVRN'] >=1)\n",
    "#     )\n",
    "# ])\n",
    "\n",
    "# male_rate = male_gotit_rate / male_nogot_rate\n",
    "# female_rate = df[(df[\"SEX\"] == 2) & (df['HAD_CPOX'] ==1) & (df['P_NUMVRC'] >=1)].count()\n",
    "\n",
    "# print(rate)\n",
    "\n",
    "\n",
    "def chickenpox_by_sex():\n",
    "    df = pd.read_csv('./assets/NISPUF17.csv')\n",
    "    male_vacc_pos = len(df[\n",
    "        (df[\"SEX\"] == 1) & \n",
    "        (df['HAD_CPOX'] ==1) & \n",
    "        (\n",
    "            (df['P_NUMVRC'] >=1) |\n",
    "            (df['P_NUMVRN'] >=1)\n",
    "        )\n",
    "    ])\n",
    "    male_vacc_neg = len(df[\n",
    "        (df[\"SEX\"] == 1) & \n",
    "        (df['HAD_CPOX'] == 2) & \n",
    "        (\n",
    "            (df['P_NUMVRC'] >=1) |\n",
    "            (df['P_NUMVRN'] >=1)\n",
    "        )\n",
    "    ])\n",
    "    print(male_vacc_pos, male_vacc_neg)\n",
    "    male_rate = male_vacc_pos / male_vacc_neg\n",
    "    female_vacc_pos = len(df[\n",
    "        (df[\"SEX\"] == 2) & \n",
    "        (df['HAD_CPOX'] ==1) & \n",
    "        (\n",
    "            (df['P_NUMVRC'] >=1) |\n",
    "            (df['P_NUMVRN'] >=1)\n",
    "        )\n",
    "    ])\n",
    "    female_vacc_neg=  len(df[\n",
    "        (df[\"SEX\"] == 2) & \n",
    "        (df['HAD_CPOX'] ==2) & \n",
    "        (\n",
    "            (df['P_NUMVRC'] >=1) |\n",
    "            (df['P_NUMVRN'] >=1)\n",
    "        )\n",
    "    ])\n",
    "    print(female_vacc_pos, female_vacc_neg)\n",
    "    female_rate = female_vacc_pos/female_vacc_neg\n",
    "    print(male_rate, female_rate)\n",
    "    return {\"male\": male_rate,\n",
    "           \"female\": female_rate}\n",
    "    raise NotImplementedError()"
   ]
  },
  {
   "cell_type": "code",
   "execution_count": 15,
   "metadata": {
    "deletable": false,
    "editable": false,
    "nbgrader": {
     "checksum": "1b6a113a633c55699ae478a3a9ee9c33",
     "grade": true,
     "grade_id": "cell-c4f1714db100c865",
     "locked": true,
     "points": 1,
     "schema_version": 1,
     "solution": false
    }
   },
   "outputs": [
    {
     "name": "stdout",
     "output_type": "stream",
     "text": [
      "68 7028\n",
      "53 6802\n",
      "0.009675583380762664 0.0077918259335489565\n"
     ]
    }
   ],
   "source": [
    "assert len(chickenpox_by_sex())==2, \"Return a dictionary with two items, the first for males and the second for females.\"\n"
   ]
  },
  {
   "cell_type": "markdown",
   "metadata": {},
   "source": [
    "## Question 4\n",
    "A correlation is a statistical relationship between two variables. If we wanted to know if vaccines work, we might look at the correlation between the use of the vaccine and whether it results in prevention of the infection or disease [1]. In this question, you are to see if there is a correlation between having had the chicken pox and the number of chickenpox vaccine doses given (varicella).\n",
    "\n",
    "Some notes on interpreting the answer. If the `had_chickenpox_column` is either `1` (for yes) or `2` for no, and that the `num_chickenpox_vaccine_column` is the number of doses a child has been given of the varicella vaccine, then a positive correlation (e.g. `corr > 0`) would mean that an increase in `had_chickenpox_column` (which means more no's) would mean an increase in the `num_chickenpox_vaccine_column` (which means more doses of vaccine). If `corr < 0` then there is a negative correlation, indicating that having had chickenpox is related to an increase in the number of vaccine doses. Also, `pval` refers to the probability the relationship observed is significant. In this case `pval` should be very very small (will end in `e-18` indicating a very small number), which means the result unlikely to be by chance.\n",
    "\n",
    "[1] This isn't really the full picture, since we are not looking at when the dose was given. It's possible that children had chickenpox and then their parents went to get them the vaccine. Does this dataset have the data we would need to investigate the timing of the dose?"
   ]
  },
  {
   "cell_type": "code",
   "execution_count": 34,
   "metadata": {
    "deletable": false,
    "nbgrader": {
     "checksum": "3e645859949447913cd11d30eb33cb1e",
     "grade": false,
     "grade_id": "cell-8afff07f564cf79a",
     "locked": false,
     "schema_version": 1,
     "solution": true
    }
   },
   "outputs": [],
   "source": [
    "# import scipy.stats as stats\n",
    "# import numpy as np\n",
    "# import pandas as pd\n",
    "\n",
    "# df = pd.read_csv('./assets/NISPUF17.csv')\n",
    "# df['P_NUMVRC']=df['P_NUMVRC'].fillna(value=0)\n",
    "# # df['HAD_CPOX'].values[df['HAD_CPOX'].values > 2] = 0\n",
    "# corr, pval=stats.pearsonr(df[\"HAD_CPOX\"],df[\"P_NUMVRC\"])\n",
    "# print(corr, pval)\n",
    "\n",
    "\n",
    "def corr_chickenpox():\n",
    "    import scipy.stats as stats\n",
    "    import numpy as np\n",
    "    import pandas as pd\n",
    "    \n",
    "    df = pd.read_csv('./assets/NISPUF17.csv')\n",
    "    df['P_NUMVRC']=df['P_NUMVRC'].fillna(value=0)\n",
    "\n",
    "#   here is some stub code to actually run the correlation\n",
    "    corr, pval=stats.pearsonr(df[\"HAD_CPOX\"],df['P_NUMVRC'])\n",
    "    \n",
    "    # just return the correlation\n",
    "    #return corr\n",
    "    print(corr)\n",
    "    return corr\n",
    "\n",
    "    # YOUR CODE HERE\n",
    "    raise NotImplementedError()"
   ]
  },
  {
   "cell_type": "code",
   "execution_count": 35,
   "metadata": {
    "deletable": false,
    "editable": false,
    "nbgrader": {
     "checksum": "ac50ccb747b99f6bbcc76da017e66528",
     "grade": true,
     "grade_id": "cell-73408733533a29a5",
     "locked": true,
     "points": 1,
     "schema_version": 1,
     "solution": false
    }
   },
   "outputs": [
    {
     "name": "stdout",
     "output_type": "stream",
     "text": [
      "-0.01026880593978898\n"
     ]
    }
   ],
   "source": [
    "assert -1<=corr_chickenpox()<=1, \"You must return a float number between -1.0 and 1.0.\"\n"
   ]
  },
  {
   "cell_type": "code",
   "execution_count": null,
   "metadata": {},
   "outputs": [],
   "source": []
  }
 ],
 "metadata": {
  "anaconda-cloud": {},
  "coursera": {
   "schema_names": [
    "mooc_adswpy_1_v2_assignment2"
   ]
  },
  "hide_code_all_hidden": false,
  "kernelspec": {
   "display_name": "Python 3",
   "language": "python",
   "name": "python3"
  },
  "language_info": {
   "codemirror_mode": {
    "name": "ipython",
    "version": 3
   },
   "file_extension": ".py",
   "mimetype": "text/x-python",
   "name": "python",
   "nbconvert_exporter": "python",
   "pygments_lexer": "ipython3",
   "version": "3.7.3"
  }
 },
 "nbformat": 4,
 "nbformat_minor": 1
}
